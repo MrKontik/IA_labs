{
 "cells": [
  {
   "cell_type": "markdown",
   "metadata": {},
   "source": [
    "# Лабараторная №1. Основый предобработки данных "
   ]
  },
  {
   "cell_type": "markdown",
   "metadata": {},
   "source": [
    "Группа 3530903/70301  \n",
    "* Сидорова Елена  \n",
    "* Ижко Георгий  \n",
    "* Шергалис Донат  "
   ]
  },
  {
   "cell_type": "markdown",
   "metadata": {
    "pycharm": {
     "name": "#%% md\n"
    }
   },
   "source": [
    "Используйте файл своей группы. <br>\n",
    "Загрузите его в DataFrame и ответьте на вопросы, используя инстурменты из файла preprocessing.ipynb.\n",
    "\n",
    "\n",
    "#### Воспросы\n",
    "1. В какой шкале представлены все признаки в наборе?<br>\n",
    "2. Укажите признак с наименьшей дисперсией.<br>\n",
    "3. Среднее какого признака отличается для двух классов сильнее всего?<br>\n",
    "4. В каком классе больше всего skilled работников?<br>\n",
    "5. Есть ли в наборе признаки с выбросами? Какие?<br>\n",
    "6. Сколько пропущенных значений в наборе?<br>\n",
    "7. Попытайтесь заполнить пропущенные значения.<br>\n",
    "8. Как минимум для одного признака каждого типа постройте диаграмму, которая может помочь его исследовать.<br>\n",
    "9. Проанализируйте взаимосвязи признаков с помощью scatter-plot матрицы и тепловой карты корреляций. Какие выводы можно сделать?<br>\n",
    "10. Какой признак(и) имеет смысл стандартизировать? Почему?<br>\n",
    "11. Придумайте 1 новый признак, попытайтесь объяснить, почему он информативный.<br>"
   ]
  },
  {
   "cell_type": "code",
   "execution_count": 1,
   "metadata": {},
   "outputs": [],
   "source": [
    "import numpy as np\n",
    "import pandas as pd\n",
    "\n",
    "import matplotlib.pyplot as plt\n",
    "\n",
    "import seaborn as sns\n",
    "\n",
    "from sklearn import datasets\n",
    "from sklearn.preprocessing import MinMaxScaler\n",
    "from sklearn.preprocessing import StandardScaler\n",
    "\n",
    "np.set_printoptions(precision=3)\n",
    "pd.set_option('precision', 3)\n",
    "\n",
    "sns.set()"
   ]
  },
  {
   "cell_type": "code",
   "execution_count": 2,
   "metadata": {},
   "outputs": [],
   "source": [
    "path='data/credit_3530903_70301.csv'\n",
    "credit_df = pd.read_csv(path, index_col=0)"
   ]
  },
  {
   "cell_type": "code",
   "execution_count": 3,
   "metadata": {},
   "outputs": [],
   "source": [
    "# credit_df[credit_df['credit_history'] == 'no credits/all paid']"
   ]
  },
  {
   "cell_type": "code",
   "execution_count": 4,
   "metadata": {},
   "outputs": [
    {
     "data": {
      "text/html": [
       "<div>\n",
       "<style scoped>\n",
       "    .dataframe tbody tr th:only-of-type {\n",
       "        vertical-align: middle;\n",
       "    }\n",
       "\n",
       "    .dataframe tbody tr th {\n",
       "        vertical-align: top;\n",
       "    }\n",
       "\n",
       "    .dataframe thead th {\n",
       "        text-align: right;\n",
       "    }\n",
       "</style>\n",
       "<table border=\"1\" class=\"dataframe\">\n",
       "  <thead>\n",
       "    <tr style=\"text-align: right;\">\n",
       "      <th></th>\n",
       "      <th>checking_status</th>\n",
       "      <th>duration</th>\n",
       "      <th>credit_history</th>\n",
       "      <th>credit_amount</th>\n",
       "      <th>employment</th>\n",
       "      <th>personal_status</th>\n",
       "      <th>residence_since</th>\n",
       "      <th>property_magnitude</th>\n",
       "      <th>age</th>\n",
       "      <th>housing</th>\n",
       "      <th>existing_credits</th>\n",
       "      <th>job</th>\n",
       "      <th>num_dependents</th>\n",
       "      <th>own_telephone</th>\n",
       "      <th>foreign_worker</th>\n",
       "      <th>class</th>\n",
       "    </tr>\n",
       "  </thead>\n",
       "  <tbody>\n",
       "    <tr>\n",
       "      <th>1</th>\n",
       "      <td>0&lt;=X&lt;200</td>\n",
       "      <td>18.0</td>\n",
       "      <td>existing paid</td>\n",
       "      <td>1301.0</td>\n",
       "      <td>&gt;=7</td>\n",
       "      <td>male mar/wid</td>\n",
       "      <td>2.0</td>\n",
       "      <td>real estate</td>\n",
       "      <td>32.0</td>\n",
       "      <td>own</td>\n",
       "      <td>1.0</td>\n",
       "      <td>unskilled resident</td>\n",
       "      <td>1.0</td>\n",
       "      <td>none</td>\n",
       "      <td>yes</td>\n",
       "      <td>good</td>\n",
       "    </tr>\n",
       "    <tr>\n",
       "      <th>2</th>\n",
       "      <td>&gt;=200</td>\n",
       "      <td>6.0</td>\n",
       "      <td>critical/other existing credit</td>\n",
       "      <td>1323.0</td>\n",
       "      <td>&gt;=7</td>\n",
       "      <td>male div/sep</td>\n",
       "      <td>4.0</td>\n",
       "      <td>car</td>\n",
       "      <td>28.0</td>\n",
       "      <td>own</td>\n",
       "      <td>2.0</td>\n",
       "      <td>skilled</td>\n",
       "      <td>2.0</td>\n",
       "      <td>yes</td>\n",
       "      <td>yes</td>\n",
       "      <td>good</td>\n",
       "    </tr>\n",
       "    <tr>\n",
       "      <th>3</th>\n",
       "      <td>&lt;0</td>\n",
       "      <td>24.0</td>\n",
       "      <td>existing paid</td>\n",
       "      <td>3123.0</td>\n",
       "      <td>&lt;1</td>\n",
       "      <td>female div/dep/mar</td>\n",
       "      <td>1.0</td>\n",
       "      <td>life insurance</td>\n",
       "      <td>27.0</td>\n",
       "      <td>own</td>\n",
       "      <td>1.0</td>\n",
       "      <td>skilled</td>\n",
       "      <td>1.0</td>\n",
       "      <td>none</td>\n",
       "      <td>yes</td>\n",
       "      <td>bad</td>\n",
       "    </tr>\n",
       "    <tr>\n",
       "      <th>4</th>\n",
       "      <td>&lt;0</td>\n",
       "      <td>36.0</td>\n",
       "      <td>existing paid</td>\n",
       "      <td>5493.0</td>\n",
       "      <td>&gt;=7</td>\n",
       "      <td>male single</td>\n",
       "      <td>4.0</td>\n",
       "      <td>no known property</td>\n",
       "      <td>42.0</td>\n",
       "      <td>for free</td>\n",
       "      <td>1.0</td>\n",
       "      <td>skilled</td>\n",
       "      <td>2.0</td>\n",
       "      <td>none</td>\n",
       "      <td>yes</td>\n",
       "      <td>good</td>\n",
       "    </tr>\n",
       "    <tr>\n",
       "      <th>5</th>\n",
       "      <td>&gt;=200</td>\n",
       "      <td>9.0</td>\n",
       "      <td>existing paid</td>\n",
       "      <td>1126.0</td>\n",
       "      <td>&gt;=7</td>\n",
       "      <td>male div/sep</td>\n",
       "      <td>4.0</td>\n",
       "      <td>real estate</td>\n",
       "      <td>49.0</td>\n",
       "      <td>own</td>\n",
       "      <td>1.0</td>\n",
       "      <td>skilled</td>\n",
       "      <td>1.0</td>\n",
       "      <td>none</td>\n",
       "      <td>yes</td>\n",
       "      <td>good</td>\n",
       "    </tr>\n",
       "  </tbody>\n",
       "</table>\n",
       "</div>"
      ],
      "text/plain": [
       "  checking_status  duration                  credit_history  credit_amount  \\\n",
       "1        0<=X<200      18.0                   existing paid         1301.0   \n",
       "2           >=200       6.0  critical/other existing credit         1323.0   \n",
       "3              <0      24.0                   existing paid         3123.0   \n",
       "4              <0      36.0                   existing paid         5493.0   \n",
       "5           >=200       9.0                   existing paid         1126.0   \n",
       "\n",
       "  employment     personal_status  residence_since property_magnitude   age  \\\n",
       "1        >=7        male mar/wid              2.0        real estate  32.0   \n",
       "2        >=7        male div/sep              4.0                car  28.0   \n",
       "3         <1  female div/dep/mar              1.0     life insurance  27.0   \n",
       "4        >=7         male single              4.0  no known property  42.0   \n",
       "5        >=7        male div/sep              4.0        real estate  49.0   \n",
       "\n",
       "    housing  existing_credits                 job  num_dependents  \\\n",
       "1       own               1.0  unskilled resident             1.0   \n",
       "2       own               2.0             skilled             2.0   \n",
       "3       own               1.0             skilled             1.0   \n",
       "4  for free               1.0             skilled             2.0   \n",
       "5       own               1.0             skilled             1.0   \n",
       "\n",
       "  own_telephone foreign_worker class  \n",
       "1          none            yes  good  \n",
       "2           yes            yes  good  \n",
       "3          none            yes   bad  \n",
       "4          none            yes  good  \n",
       "5          none            yes  good  "
      ]
     },
     "execution_count": 4,
     "metadata": {},
     "output_type": "execute_result"
    }
   ],
   "source": [
    "credit_df.head()"
   ]
  },
  {
   "cell_type": "markdown",
   "metadata": {
    "pycharm": {
     "name": "#%% md\n"
    }
   },
   "source": [
    "| Признак | Описание |\n",
    "|-|-|\n",
    "|credit_history      | Credit history (credits taken, paid back duly, delays, critical accounts)\n",
    "|credit_amount       | Credit amount\n",
    "|employment          | Present employment, in number of years.\n",
    "|personal_status     | Personal status (married, single,…) and sex\n",
    "|residence_since     | Present residence since X years\n",
    "|property_magnitude  | Property (e.g. real estate)\n",
    "|age                 | Age in years\n",
    "|housing             | Housing (rent, own,…)\n",
    "|existing_credits    | Number of existing credits at this bank\n",
    "|job                 | Job\n",
    "|num_dependents      | Number of people being liable to provide maintenance for\n",
    "|own_telephone       | Telephone (yes,no)\n",
    "|foreign_worker      | Foreign worker (yes,no)"
   ]
  },
  {
   "cell_type": "code",
   "execution_count": 5,
   "metadata": {},
   "outputs": [],
   "source": [
    "def filter_good(df = credit_df):\n",
    "    return df[df['class'] == 'good']\n",
    "\n",
    "def filter_bad(df = credit_df):\n",
    "    return df[df['class'] == 'bad']"
   ]
  },
  {
   "cell_type": "code",
   "execution_count": 6,
   "metadata": {},
   "outputs": [],
   "source": [
    "def filter(col, value, df = credit_df):\n",
    "    return df[df[col] == value]\n",
    "\n",
    "def filter_not(col, value, df = credit_df):\n",
    "    return df[df[col] != value]"
   ]
  },
  {
   "cell_type": "code",
   "execution_count": 7,
   "metadata": {
    "pycharm": {
     "name": "#%%\n"
    }
   },
   "outputs": [
    {
     "data": {
      "text/html": [
       "<div>\n",
       "<style scoped>\n",
       "    .dataframe tbody tr th:only-of-type {\n",
       "        vertical-align: middle;\n",
       "    }\n",
       "\n",
       "    .dataframe tbody tr th {\n",
       "        vertical-align: top;\n",
       "    }\n",
       "\n",
       "    .dataframe thead th {\n",
       "        text-align: right;\n",
       "    }\n",
       "</style>\n",
       "<table border=\"1\" class=\"dataframe\">\n",
       "  <thead>\n",
       "    <tr style=\"text-align: right;\">\n",
       "      <th></th>\n",
       "      <th>duration</th>\n",
       "      <th>credit_amount</th>\n",
       "      <th>residence_since</th>\n",
       "      <th>age</th>\n",
       "      <th>existing_credits</th>\n",
       "      <th>num_dependents</th>\n",
       "    </tr>\n",
       "  </thead>\n",
       "  <tbody>\n",
       "    <tr>\n",
       "      <th>count</th>\n",
       "      <td>502.000</td>\n",
       "      <td>501.000</td>\n",
       "      <td>485.000</td>\n",
       "      <td>502.000</td>\n",
       "      <td>502.000</td>\n",
       "      <td>502.000</td>\n",
       "    </tr>\n",
       "    <tr>\n",
       "      <th>mean</th>\n",
       "      <td>21.460</td>\n",
       "      <td>3236.230</td>\n",
       "      <td>2.821</td>\n",
       "      <td>35.542</td>\n",
       "      <td>1.420</td>\n",
       "      <td>1.167</td>\n",
       "    </tr>\n",
       "    <tr>\n",
       "      <th>std</th>\n",
       "      <td>11.983</td>\n",
       "      <td>2843.499</td>\n",
       "      <td>1.151</td>\n",
       "      <td>11.274</td>\n",
       "      <td>0.586</td>\n",
       "      <td>0.374</td>\n",
       "    </tr>\n",
       "    <tr>\n",
       "      <th>min</th>\n",
       "      <td>4.000</td>\n",
       "      <td>0.000</td>\n",
       "      <td>0.000</td>\n",
       "      <td>19.000</td>\n",
       "      <td>1.000</td>\n",
       "      <td>1.000</td>\n",
       "    </tr>\n",
       "    <tr>\n",
       "      <th>25%</th>\n",
       "      <td>12.000</td>\n",
       "      <td>1358.000</td>\n",
       "      <td>2.000</td>\n",
       "      <td>27.000</td>\n",
       "      <td>1.000</td>\n",
       "      <td>1.000</td>\n",
       "    </tr>\n",
       "    <tr>\n",
       "      <th>50%</th>\n",
       "      <td>18.000</td>\n",
       "      <td>2325.000</td>\n",
       "      <td>3.000</td>\n",
       "      <td>33.000</td>\n",
       "      <td>1.000</td>\n",
       "      <td>1.000</td>\n",
       "    </tr>\n",
       "    <tr>\n",
       "      <th>75%</th>\n",
       "      <td>24.000</td>\n",
       "      <td>3959.000</td>\n",
       "      <td>4.000</td>\n",
       "      <td>42.000</td>\n",
       "      <td>2.000</td>\n",
       "      <td>1.000</td>\n",
       "    </tr>\n",
       "    <tr>\n",
       "      <th>max</th>\n",
       "      <td>72.000</td>\n",
       "      <td>18424.000</td>\n",
       "      <td>4.000</td>\n",
       "      <td>75.000</td>\n",
       "      <td>4.000</td>\n",
       "      <td>2.000</td>\n",
       "    </tr>\n",
       "  </tbody>\n",
       "</table>\n",
       "</div>"
      ],
      "text/plain": [
       "       duration  credit_amount  residence_since      age  existing_credits  \\\n",
       "count   502.000        501.000          485.000  502.000           502.000   \n",
       "mean     21.460       3236.230            2.821   35.542             1.420   \n",
       "std      11.983       2843.499            1.151   11.274             0.586   \n",
       "min       4.000          0.000            0.000   19.000             1.000   \n",
       "25%      12.000       1358.000            2.000   27.000             1.000   \n",
       "50%      18.000       2325.000            3.000   33.000             1.000   \n",
       "75%      24.000       3959.000            4.000   42.000             2.000   \n",
       "max      72.000      18424.000            4.000   75.000             4.000   \n",
       "\n",
       "       num_dependents  \n",
       "count         502.000  \n",
       "mean            1.167  \n",
       "std             0.374  \n",
       "min             1.000  \n",
       "25%             1.000  \n",
       "50%             1.000  \n",
       "75%             1.000  \n",
       "max             2.000  "
      ]
     },
     "execution_count": 7,
     "metadata": {},
     "output_type": "execute_result"
    }
   ],
   "source": [
    "credit_df.describe()"
   ]
  },
  {
   "cell_type": "code",
   "execution_count": 41,
   "metadata": {
    "pycharm": {
     "name": "#%%\n"
    }
   },
   "outputs": [
    {
     "name": "stdout",
     "output_type": "stream",
     "text": [
      "checking_status : 4 \n",
      " ['0<=X<200' '>=200' '<0' 'no checking'] \n",
      "\n",
      "duration : 29 \n",
      " [18.  6. 24. 36.  9. 10. 15. 39. 12. 48. 26.  4. 21. 30.  7. 60. 42. 14.\n",
      " 72. 27. 20.  8. 13. 22. 40. 45. 11. 28. 16.] \n",
      "\n",
      "credit_history : 5 \n",
      " ['existing paid' 'critical/other existing credit' 'all paid' 'unknown'\n",
      " 'no credits/all paid'] \n",
      "\n",
      "credit_amount : 474 \n",
      " [ 1301.  1323.  3123.  5493.  1126.  1216.  1207.  1309.  2360.  6850.\n",
      "  1413.  8588.   759.  4686.  2687.   585.  2255.   609.  1361.  7127.\n",
      "  1203.   700.  5507.  3190.  7119.  3488.  1113.  7966.  1532.  1503.\n",
      "  2302.   662.  2273.  2631.  1311.  3105.  2319.  1374.  3612.  7763.\n",
      "  3049.  1534.  ... \n",
      "\n",
      "employment : 5 \n",
      " ['>=7' '<1' '1<=X<4' 'unemployed' '4<=X<7'] \n",
      "\n",
      "personal_status : 4 \n",
      " ['male mar/wid' 'male div/sep' 'female div/dep/mar' 'male single'] \n",
      "\n",
      "residence_since : 6 \n",
      " [ 2.  4.  1.  3. nan  0.] \n",
      "\n",
      "property_magnitude : 4 \n",
      " ['real estate' 'car' 'life insurance' 'no known property'] \n",
      "\n",
      "age : 52 \n",
      " [32. 28. 27. 42. 49. 38. 24. 36. 34. 45. 26. 20. 54. 37. 40. 23. 43. 44.\n",
      " 53. 30. 31. 41. 25. 33. 75. 60. 61. 35. 67. 22. 29. 52. 21. 47. 58. 74.\n",
      " 50. 48. 65. 64. 19. 56. 46. 63. 66. 59. 55. 39. 51. 62. 68. 57.] \n",
      "\n",
      "housing : 3 \n",
      " ['own' 'for free' 'rent'] \n",
      "\n",
      "existing_credits : 4 \n",
      " [1. 2. 4. 3.] \n",
      "\n",
      "job : 4 \n",
      " ['unskilled resident' 'skilled' 'high qualif/self emp/mgmt'\n",
      " 'unemp/unskilled non res'] \n",
      "\n",
      "num_dependents : 2 \n",
      " [1. 2.] \n",
      "\n",
      "own_telephone : 2 \n",
      " ['none' 'yes'] \n",
      "\n",
      "foreign_worker : 2 \n",
      " ['yes' 'no'] \n",
      "\n",
      "class : 2 \n",
      " ['good' 'bad'] \n",
      "\n"
     ]
    }
   ],
   "source": [
    "# признак  | значения\n",
    "for col in credit_df: # ['existing_credits', 'credit_history', 'employment', 'personal_status', 'job', 'property_magnitude', 'residence_since', 'duration]:\n",
    "    values = credit_df[col].unique()\n",
    "    str_values = str(values)\n",
    "    if len(str_values) > 300:\n",
    "        str_values = str_values[:300] + '...'\n",
    "    print(col, ':', len(values), '\\n', str_values, '\\n')"
   ]
  },
  {
   "cell_type": "markdown",
   "metadata": {
    "pycharm": {
     "name": "#%% md\n"
    }
   },
   "source": [
    "### 1. В какой шкале представлены все признаки в наборе?"
   ]
  },
  {
   "cell_type": "markdown",
   "metadata": {
    "pycharm": {
     "name": "#%% md\n"
    }
   },
   "source": [
    "|признак                | шкала                       | смысл                  | значения               |\n",
    "|-----------------------|:---------------------------:|:-----------------------|:-----------------------|\n",
    "|checking_status\t    | номинальная (порядковая)    | сумма на счёте DEM     | интервал/отсутствует   |\n",
    "|duration\t\t\t    | абсолютная                  | срок                   | натуральное число      |\n",
    "|credit_history         | номинальная                 | кред.история           | `existing paid`, `critical/other existing credit`, `all paid`, `unknown`, `no credits/all paid`  |\n",
    "|credit_amount          | абсолютная                  | сумм.кредита           | натуральное число      |\n",
    "|employment             | номинальная (порядковая)    | стаж                   | `unemployed`, `<1`, `1<=X<4`, `4<=X<7`, `>=7`                          |\n",
    "|personal_status        | номинальная                 | СП                     | `male mar/wid`, `male div/sep`, `female div/dep/mar`, `male single`    |\n",
    "|residence_since        | абсолютная                  | ?                      | натуральное число      |\n",
    "|property_magnitude     | номинальная                 | собственность          | `real estate`,  `car`,  `life insurance`,  `no known property`         |\n",
    "|age                    | порядковая                  | возраст                | натуральное число      |\n",
    "|housing                | номинальная                 | где живёт              | `own`, `rent`, `free`  |\n",
    "|existing_credits       | абсолютная                  | другие кредиты         | натуральное число      |\n",
    "|job                    | номинальная                 | квалификация           | `unskilled resident`, `skilled`, `high qualif/self emp/mgmt`, `unemp/unskilled non res`|\n",
    "|num_dependents         | абсолютная                  | кол-во иждивенцев      | число                  |\n",
    "|own_telephone          | номинальная (бинарная)      | есть телефон?          | `yes`, `none`          |\n",
    "|foreign_worker         | номинальная (бинарная)      | иностранец?            | `yes`, `no`            |\n",
    "|class                  | номинальная (бинарная)      | хороший заёмщик?       | `good`, `bad`          |"
   ]
  },
  {
   "cell_type": "code",
   "execution_count": null,
   "metadata": {
    "pycharm": {
     "name": "#%%\n"
    }
   },
   "outputs": [],
   "source": []
  },
  {
   "cell_type": "markdown",
   "metadata": {},
   "source": [
    "### 2. Укажите признак с наименьшей дисперсией."
   ]
  },
  {
   "cell_type": "markdown",
   "metadata": {
    "pycharm": {
     "name": "#%% md\n"
    }
   },
   "source": [
    "**Ответ**: признак `age`"
   ]
  },
  {
   "cell_type": "code",
   "execution_count": 45,
   "metadata": {
    "pycharm": {
     "name": "#%%\n"
    }
   },
   "outputs": [
    {
     "data": {
      "text/plain": [
       "duration              11.983\n",
       "credit_amount       2843.499\n",
       "residence_since        1.151\n",
       "age                   11.274\n",
       "existing_credits       0.586\n",
       "num_dependents         0.374\n",
       "Name: std, dtype: float64"
      ]
     },
     "execution_count": 45,
     "metadata": {},
     "output_type": "execute_result"
    }
   ],
   "source": [
    "desc = credit_df.describe().T\n",
    "desc['std']"
   ]
  },
  {
   "cell_type": "code",
   "execution_count": 46,
   "metadata": {
    "pycharm": {
     "name": "#%%\n"
    }
   },
   "outputs": [
    {
     "data": {
      "text/plain": [
       "duration            0.558\n",
       "credit_amount       0.879\n",
       "residence_since     0.408\n",
       "age                 0.317\n",
       "existing_credits    0.413\n",
       "num_dependents      0.320\n",
       "dtype: float64"
      ]
     },
     "execution_count": 46,
     "metadata": {},
     "output_type": "execute_result"
    }
   ],
   "source": [
    "desc['std'] / desc['mean']"
   ]
  },
  {
   "cell_type": "markdown",
   "metadata": {
    "pycharm": {
     "name": "#%% md\n"
    }
   },
   "source": [
    "### 3. Среднее какого признака отличается для двух классов сильнее всего?"
   ]
  },
  {
   "cell_type": "markdown",
   "metadata": {
    "pycharm": {
     "name": "#%% md\n"
    }
   },
   "source": [
    "Признака `duration`"
   ]
  },
  {
   "cell_type": "code",
   "execution_count": 11,
   "metadata": {
    "pycharm": {
     "name": "#%%\n"
    }
   },
   "outputs": [
    {
     "data": {
      "text/plain": [
       "duration            0.814\n",
       "credit_amount       0.863\n",
       "residence_since     0.959\n",
       "age                 1.099\n",
       "existing_credits    1.073\n",
       "num_dependents      1.019\n",
       "dtype: float64"
      ]
     },
     "execution_count": 11,
     "metadata": {},
     "output_type": "execute_result"
    }
   ],
   "source": [
    "diff = filter_good().mean() / filter_bad().mean()\n",
    "diff"
   ]
  },
  {
   "cell_type": "code",
   "execution_count": 12,
   "metadata": {
    "pycharm": {
     "name": "#%%\n"
    }
   },
   "outputs": [
    {
     "data": {
      "text/plain": [
       "duration            0.207\n",
       "credit_amount       0.148\n",
       "residence_since     0.042\n",
       "age                 0.095\n",
       "existing_credits    0.071\n",
       "num_dependents      0.019\n",
       "dtype: float64"
      ]
     },
     "execution_count": 12,
     "metadata": {},
     "output_type": "execute_result"
    }
   ],
   "source": [
    "abs(diff - 1/diff)/2"
   ]
  },
  {
   "cell_type": "markdown",
   "metadata": {},
   "source": [
    "### 4. В каком классе больше всего skilled работников?"
   ]
  },
  {
   "cell_type": "markdown",
   "metadata": {
    "pycharm": {
     "name": "#%% md\n"
    }
   },
   "source": [
    "**Ответ**: В классе good"
   ]
  },
  {
   "cell_type": "code",
   "execution_count": 53,
   "metadata": {},
   "outputs": [
    {
     "name": "stdout",
     "output_type": "stream",
     "text": [
      "в классе good:  213\n",
      "в классе bad: 107\n"
     ]
    }
   ],
   "source": [
    "print('в классе good: ', len(filter('job', 'skilled', good)))\n",
    "print('в классе bad:', len(filter('job', 'skilled', bad)))"
   ]
  },
  {
   "cell_type": "code",
   "execution_count": 13,
   "metadata": {
    "pycharm": {
     "name": "#%%\n"
    }
   },
   "outputs": [
    {
     "name": "stdout",
     "output_type": "stream",
     "text": [
      "66.56 % skilled работников имеют класс good\n",
      "68.68 % прочих работников имеют класс good\n"
     ]
    }
   ],
   "source": [
    "skilled = filter('job', 'skilled')\n",
    "notskilled = filter_not('job', 'skilled')\n",
    "\n",
    "skilled_good = filter_good(skilled)\n",
    "notskilled_good = filter_good(notskilled)\n",
    "\n",
    "print(round(100 * len(skilled_good) / len(skilled), 2), \"% skilled работников имеют класс good\")\n",
    "print(round(100 * len(notskilled_good) / len(notskilled), 2), \"% прочих работников имеют класс good\")"
   ]
  },
  {
   "cell_type": "code",
   "execution_count": 14,
   "metadata": {},
   "outputs": [
    {
     "name": "stdout",
     "output_type": "stream",
     "text": [
      "63.01775147928994 % good работников являются skilled\n",
      "65.2439024390244 % bad работников являются skilled\n"
     ]
    }
   ],
   "source": [
    "good = filter_good()\n",
    "bad = filter_bad()\n",
    "\n",
    "skilled_bad = filter('job', 'skilled', bad)\n",
    "\n",
    "print(100 * len(skilled_good) / len(good), \"% good работников являются skilled\")\n",
    "print(100 * len(skilled_bad) / len(bad), \"% bad работников являются skilled\")"
   ]
  },
  {
   "cell_type": "markdown",
   "metadata": {
    "pycharm": {
     "name": "#%% md\n"
    }
   },
   "source": [
    "### 5. Есть ли в наборе признаки с выбросами? Какие?"
   ]
  },
  {
   "cell_type": "markdown",
   "metadata": {
    "pycharm": {
     "name": "#%% md\n"
    }
   },
   "source": [
    "| признак          | смысл     | значения | нормальные значения | комментарий\n",
    "|:-----------------|:----------|:---------|:--------------------|:------------\n",
    "| duration         | срок      | 4-72 мес| от неск.месяцев до 7 лет | 72 не является выбросом\n",
    "| credit_amount    | сумма     | 0-17500 марок | 500-70 000 марок | 17500 не является выбросом <br> 0 является пропуском данных\n",
    "| residence_since  | в банке   | 0-4 | 0+ | правдоподобно |\n",
    "| age              | возраст   | 18-74 года | 18+ | возраст 74 года не является выбросом\n",
    "| existing_credits | кол-во кредитов | 1-4  | 0-парочка | реалистично, почему нет 0?\n",
    "| num_dependents   | иждивенцы | 1-2 | 0-несколько | нет выбросов"
   ]
  },
  {
   "cell_type": "code",
   "execution_count": 15,
   "metadata": {
    "pycharm": {
     "name": "#%%\n"
    }
   },
   "outputs": [
    {
     "data": {
      "text/plain": [
       "Index(['duration', 'credit_amount', 'residence_since', 'age',\n",
       "       'existing_credits', 'num_dependents'],\n",
       "      dtype='object')"
      ]
     },
     "execution_count": 15,
     "metadata": {},
     "output_type": "execute_result"
    }
   ],
   "source": [
    "numeric_columns = credit_df.describe().columns\n",
    "numeric_columns"
   ]
  },
  {
   "cell_type": "code",
   "execution_count": 16,
   "metadata": {},
   "outputs": [
    {
     "data": {
      "image/png": "[encoded data removed]",
      "text/plain": [
       "<Figure size 1080x504 with 6 Axes>"
      ]
     },
     "metadata": {},
     "output_type": "display_data"
    }
   ],
   "source": [
    "fig, axs = plt.subplots(ncols=len(numeric_columns), figsize=(15,7))\n",
    "fig.tight_layout()\n",
    "for column, ax in zip(numeric_columns, axs):\n",
    "    sns.boxplot(ax=ax, data=credit_df[[column]])"
   ]
  },
  {
   "cell_type": "markdown",
   "metadata": {
    "pycharm": {
     "name": "#%% md\n"
    }
   },
   "source": [
    "### 6. Сколько пропущенных значений в наборе?"
   ]
  },
  {
   "cell_type": "markdown",
   "metadata": {
    "pycharm": {
     "name": "#%% md\n"
    }
   },
   "source": [
    "**Ответ:** 26 пропущенных значений в признаках `credit_amount` и `residence_since`"
   ]
  },
  {
   "cell_type": "code",
   "execution_count": 17,
   "metadata": {},
   "outputs": [
    {
     "name": "stdout",
     "output_type": "stream",
     "text": [
      "<class 'pandas.core.frame.DataFrame'>\n",
      "Int64Index: 502 entries, 1 to 502\n",
      "Data columns (total 16 columns):\n",
      " #   Column              Non-Null Count  Dtype  \n",
      "---  ------              --------------  -----  \n",
      " 0   checking_status     502 non-null    object \n",
      " 1   duration            502 non-null    float64\n",
      " 2   credit_history      502 non-null    object \n",
      " 3   credit_amount       501 non-null    float64\n",
      " 4   employment          502 non-null    object \n",
      " 5   personal_status     502 non-null    object \n",
      " 6   residence_since     485 non-null    float64\n",
      " 7   property_magnitude  502 non-null    object \n",
      " 8   age                 502 non-null    float64\n",
      " 9   housing             502 non-null    object \n",
      " 10  existing_credits    502 non-null    float64\n",
      " 11  job                 502 non-null    object \n",
      " 12  num_dependents      502 non-null    float64\n",
      " 13  own_telephone       502 non-null    object \n",
      " 14  foreign_worker      502 non-null    object \n",
      " 15  class               502 non-null    object \n",
      "dtypes: float64(6), object(10)\n",
      "memory usage: 66.7+ KB\n"
     ]
    }
   ],
   "source": [
    "credit_df.info()"
   ]
  },
  {
   "cell_type": "code",
   "execution_count": 18,
   "metadata": {},
   "outputs": [
    {
     "data": {
      "text/plain": [
       "checking_status        0\n",
       "duration               0\n",
       "credit_history         0\n",
       "credit_amount          1\n",
       "employment             0\n",
       "personal_status        0\n",
       "residence_since       17\n",
       "property_magnitude     0\n",
       "age                    0\n",
       "housing                0\n",
       "existing_credits       0\n",
       "job                    0\n",
       "num_dependents         0\n",
       "own_telephone          0\n",
       "foreign_worker         0\n",
       "class                  0\n",
       "dtype: int64"
      ]
     },
     "execution_count": 18,
     "metadata": {},
     "output_type": "execute_result"
    }
   ],
   "source": [
    "credit_df.isnull().sum()"
   ]
  },
  {
   "cell_type": "code",
   "execution_count": 19,
   "metadata": {},
   "outputs": [
    {
     "data": {
      "text/plain": [
       "8"
      ]
     },
     "execution_count": 19,
     "metadata": {},
     "output_type": "execute_result"
    }
   ],
   "source": [
    "len(credit_df[(credit_df.credit_amount == 0)])"
   ]
  },
  {
   "cell_type": "code",
   "execution_count": 20,
   "metadata": {},
   "outputs": [],
   "source": [
    "def get_missed(df=credit_df):\n",
    "    return df[(df.credit_amount == 0) | (df.isnull().T.any())]"
   ]
  },
  {
   "cell_type": "code",
   "execution_count": 21,
   "metadata": {},
   "outputs": [
    {
     "data": {
      "text/html": [
       "<div>\n",
       "<style scoped>\n",
       "    .dataframe tbody tr th:only-of-type {\n",
       "        vertical-align: middle;\n",
       "    }\n",
       "\n",
       "    .dataframe tbody tr th {\n",
       "        vertical-align: top;\n",
       "    }\n",
       "\n",
       "    .dataframe thead th {\n",
       "        text-align: right;\n",
       "    }\n",
       "</style>\n",
       "<table border=\"1\" class=\"dataframe\">\n",
       "  <thead>\n",
       "    <tr style=\"text-align: right;\">\n",
       "      <th></th>\n",
       "      <th>checking_status</th>\n",
       "      <th>duration</th>\n",
       "      <th>credit_history</th>\n",
       "      <th>credit_amount</th>\n",
       "      <th>employment</th>\n",
       "      <th>personal_status</th>\n",
       "      <th>residence_since</th>\n",
       "      <th>property_magnitude</th>\n",
       "      <th>age</th>\n",
       "      <th>housing</th>\n",
       "      <th>existing_credits</th>\n",
       "      <th>job</th>\n",
       "      <th>num_dependents</th>\n",
       "      <th>own_telephone</th>\n",
       "      <th>foreign_worker</th>\n",
       "      <th>class</th>\n",
       "    </tr>\n",
       "  </thead>\n",
       "  <tbody>\n",
       "    <tr>\n",
       "      <th>45</th>\n",
       "      <td>&lt;0</td>\n",
       "      <td>30.0</td>\n",
       "      <td>existing paid</td>\n",
       "      <td>0.0</td>\n",
       "      <td>&gt;=7</td>\n",
       "      <td>male single</td>\n",
       "      <td>4.0</td>\n",
       "      <td>life insurance</td>\n",
       "      <td>31.0</td>\n",
       "      <td>own</td>\n",
       "      <td>1.0</td>\n",
       "      <td>skilled</td>\n",
       "      <td>1.0</td>\n",
       "      <td>none</td>\n",
       "      <td>yes</td>\n",
       "      <td>bad</td>\n",
       "    </tr>\n",
       "    <tr>\n",
       "      <th>72</th>\n",
       "      <td>&lt;0</td>\n",
       "      <td>48.0</td>\n",
       "      <td>existing paid</td>\n",
       "      <td>0.0</td>\n",
       "      <td>1&lt;=X&lt;4</td>\n",
       "      <td>female div/dep/mar</td>\n",
       "      <td>2.0</td>\n",
       "      <td>car</td>\n",
       "      <td>31.0</td>\n",
       "      <td>own</td>\n",
       "      <td>1.0</td>\n",
       "      <td>skilled</td>\n",
       "      <td>1.0</td>\n",
       "      <td>yes</td>\n",
       "      <td>yes</td>\n",
       "      <td>bad</td>\n",
       "    </tr>\n",
       "    <tr>\n",
       "      <th>87</th>\n",
       "      <td>no checking</td>\n",
       "      <td>12.0</td>\n",
       "      <td>existing paid</td>\n",
       "      <td>0.0</td>\n",
       "      <td>&gt;=7</td>\n",
       "      <td>female div/dep/mar</td>\n",
       "      <td>4.0</td>\n",
       "      <td>no known property</td>\n",
       "      <td>52.0</td>\n",
       "      <td>for free</td>\n",
       "      <td>1.0</td>\n",
       "      <td>high qualif/self emp/mgmt</td>\n",
       "      <td>1.0</td>\n",
       "      <td>yes</td>\n",
       "      <td>yes</td>\n",
       "      <td>good</td>\n",
       "    </tr>\n",
       "    <tr>\n",
       "      <th>137</th>\n",
       "      <td>0&lt;=X&lt;200</td>\n",
       "      <td>24.0</td>\n",
       "      <td>existing paid</td>\n",
       "      <td>0.0</td>\n",
       "      <td>&lt;1</td>\n",
       "      <td>female div/dep/mar</td>\n",
       "      <td>4.0</td>\n",
       "      <td>car</td>\n",
       "      <td>25.0</td>\n",
       "      <td>own</td>\n",
       "      <td>1.0</td>\n",
       "      <td>unskilled resident</td>\n",
       "      <td>1.0</td>\n",
       "      <td>yes</td>\n",
       "      <td>yes</td>\n",
       "      <td>bad</td>\n",
       "    </tr>\n",
       "    <tr>\n",
       "      <th>186</th>\n",
       "      <td>no checking</td>\n",
       "      <td>24.0</td>\n",
       "      <td>critical/other existing credit</td>\n",
       "      <td>0.0</td>\n",
       "      <td>&lt;1</td>\n",
       "      <td>male mar/wid</td>\n",
       "      <td>3.0</td>\n",
       "      <td>no known property</td>\n",
       "      <td>47.0</td>\n",
       "      <td>for free</td>\n",
       "      <td>3.0</td>\n",
       "      <td>skilled</td>\n",
       "      <td>1.0</td>\n",
       "      <td>yes</td>\n",
       "      <td>yes</td>\n",
       "      <td>good</td>\n",
       "    </tr>\n",
       "  </tbody>\n",
       "</table>\n",
       "</div>"
      ],
      "text/plain": [
       "    checking_status  duration                  credit_history  credit_amount  \\\n",
       "45               <0      30.0                   existing paid            0.0   \n",
       "72               <0      48.0                   existing paid            0.0   \n",
       "87      no checking      12.0                   existing paid            0.0   \n",
       "137        0<=X<200      24.0                   existing paid            0.0   \n",
       "186     no checking      24.0  critical/other existing credit            0.0   \n",
       "\n",
       "    employment     personal_status  residence_since property_magnitude   age  \\\n",
       "45         >=7         male single              4.0     life insurance  31.0   \n",
       "72      1<=X<4  female div/dep/mar              2.0                car  31.0   \n",
       "87         >=7  female div/dep/mar              4.0  no known property  52.0   \n",
       "137         <1  female div/dep/mar              4.0                car  25.0   \n",
       "186         <1        male mar/wid              3.0  no known property  47.0   \n",
       "\n",
       "      housing  existing_credits                        job  num_dependents  \\\n",
       "45        own               1.0                    skilled             1.0   \n",
       "72        own               1.0                    skilled             1.0   \n",
       "87   for free               1.0  high qualif/self emp/mgmt             1.0   \n",
       "137       own               1.0         unskilled resident             1.0   \n",
       "186  for free               3.0                    skilled             1.0   \n",
       "\n",
       "    own_telephone foreign_worker class  \n",
       "45           none            yes   bad  \n",
       "72            yes            yes   bad  \n",
       "87            yes            yes  good  \n",
       "137           yes            yes   bad  \n",
       "186           yes            yes  good  "
      ]
     },
     "execution_count": 21,
     "metadata": {},
     "output_type": "execute_result"
    }
   ],
   "source": [
    "missed = get_missed()\n",
    "missed.head()"
   ]
  },
  {
   "cell_type": "code",
   "execution_count": 22,
   "metadata": {},
   "outputs": [
    {
     "data": {
      "text/plain": [
       "26"
      ]
     },
     "execution_count": 22,
     "metadata": {},
     "output_type": "execute_result"
    }
   ],
   "source": [
    "len(missed)"
   ]
  },
  {
   "cell_type": "markdown",
   "metadata": {
    "pycharm": {
     "name": "#%% md\n"
    }
   },
   "source": [
    "### 7. Попытайтесь заполнить пропущенные значения."
   ]
  },
  {
   "cell_type": "code",
   "execution_count": 23,
   "metadata": {},
   "outputs": [],
   "source": [
    "credit_filled = credit_df.copy()"
   ]
  },
  {
   "cell_type": "code",
   "execution_count": 24,
   "metadata": {},
   "outputs": [
    {
     "data": {
      "text/html": [
       "<div>\n",
       "<style scoped>\n",
       "    .dataframe tbody tr th:only-of-type {\n",
       "        vertical-align: middle;\n",
       "    }\n",
       "\n",
       "    .dataframe tbody tr th {\n",
       "        vertical-align: top;\n",
       "    }\n",
       "\n",
       "    .dataframe thead th {\n",
       "        text-align: right;\n",
       "    }\n",
       "</style>\n",
       "<table border=\"1\" class=\"dataframe\">\n",
       "  <thead>\n",
       "    <tr style=\"text-align: right;\">\n",
       "      <th></th>\n",
       "      <th>duration</th>\n",
       "      <th>credit_amount</th>\n",
       "      <th>residence_since</th>\n",
       "      <th>age</th>\n",
       "      <th>existing_credits</th>\n",
       "      <th>num_dependents</th>\n",
       "    </tr>\n",
       "  </thead>\n",
       "  <tbody>\n",
       "    <tr>\n",
       "      <th>count</th>\n",
       "      <td>502.000</td>\n",
       "      <td>501.000</td>\n",
       "      <td>485.000</td>\n",
       "      <td>502.000</td>\n",
       "      <td>502.000</td>\n",
       "      <td>502.000</td>\n",
       "    </tr>\n",
       "    <tr>\n",
       "      <th>mean</th>\n",
       "      <td>21.460</td>\n",
       "      <td>3236.230</td>\n",
       "      <td>2.821</td>\n",
       "      <td>35.542</td>\n",
       "      <td>1.420</td>\n",
       "      <td>1.167</td>\n",
       "    </tr>\n",
       "    <tr>\n",
       "      <th>std</th>\n",
       "      <td>11.983</td>\n",
       "      <td>2843.499</td>\n",
       "      <td>1.151</td>\n",
       "      <td>11.274</td>\n",
       "      <td>0.586</td>\n",
       "      <td>0.374</td>\n",
       "    </tr>\n",
       "    <tr>\n",
       "      <th>min</th>\n",
       "      <td>4.000</td>\n",
       "      <td>0.000</td>\n",
       "      <td>0.000</td>\n",
       "      <td>19.000</td>\n",
       "      <td>1.000</td>\n",
       "      <td>1.000</td>\n",
       "    </tr>\n",
       "    <tr>\n",
       "      <th>25%</th>\n",
       "      <td>12.000</td>\n",
       "      <td>1358.000</td>\n",
       "      <td>2.000</td>\n",
       "      <td>27.000</td>\n",
       "      <td>1.000</td>\n",
       "      <td>1.000</td>\n",
       "    </tr>\n",
       "    <tr>\n",
       "      <th>50%</th>\n",
       "      <td>18.000</td>\n",
       "      <td>2325.000</td>\n",
       "      <td>3.000</td>\n",
       "      <td>33.000</td>\n",
       "      <td>1.000</td>\n",
       "      <td>1.000</td>\n",
       "    </tr>\n",
       "    <tr>\n",
       "      <th>75%</th>\n",
       "      <td>24.000</td>\n",
       "      <td>3959.000</td>\n",
       "      <td>4.000</td>\n",
       "      <td>42.000</td>\n",
       "      <td>2.000</td>\n",
       "      <td>1.000</td>\n",
       "    </tr>\n",
       "    <tr>\n",
       "      <th>max</th>\n",
       "      <td>72.000</td>\n",
       "      <td>18424.000</td>\n",
       "      <td>4.000</td>\n",
       "      <td>75.000</td>\n",
       "      <td>4.000</td>\n",
       "      <td>2.000</td>\n",
       "    </tr>\n",
       "  </tbody>\n",
       "</table>\n",
       "</div>"
      ],
      "text/plain": [
       "       duration  credit_amount  residence_since      age  existing_credits  \\\n",
       "count   502.000        501.000          485.000  502.000           502.000   \n",
       "mean     21.460       3236.230            2.821   35.542             1.420   \n",
       "std      11.983       2843.499            1.151   11.274             0.586   \n",
       "min       4.000          0.000            0.000   19.000             1.000   \n",
       "25%      12.000       1358.000            2.000   27.000             1.000   \n",
       "50%      18.000       2325.000            3.000   33.000             1.000   \n",
       "75%      24.000       3959.000            4.000   42.000             2.000   \n",
       "max      72.000      18424.000            4.000   75.000             4.000   \n",
       "\n",
       "       num_dependents  \n",
       "count         502.000  \n",
       "mean            1.167  \n",
       "std             0.374  \n",
       "min             1.000  \n",
       "25%             1.000  \n",
       "50%             1.000  \n",
       "75%             1.000  \n",
       "max             2.000  "
      ]
     },
     "execution_count": 24,
     "metadata": {},
     "output_type": "execute_result"
    }
   ],
   "source": [
    "desc = credit_df.describe()\n",
    "desc"
   ]
  },
  {
   "cell_type": "code",
   "execution_count": 25,
   "metadata": {},
   "outputs": [
    {
     "data": {
      "text/plain": [
       "0"
      ]
     },
     "execution_count": 25,
     "metadata": {},
     "output_type": "execute_result"
    }
   ],
   "source": [
    "credit_filled['credit_amount'].fillna(desc.credit_amount['50%'], inplace=True)\n",
    "credit_filled['credit_amount'].replace(to_replace=[0], value=desc.credit_amount['50%'], inplace=True)\n",
    "credit_filled['residence_since'].fillna(0, inplace=True) # вероятно, residence_since=NaN означает, что человек не является клиентом банка, тогда используем 0\n",
    "\n",
    "len(get_missed(credit_filled))"
   ]
  },
  {
   "cell_type": "markdown",
   "metadata": {
    "pycharm": {
     "name": "#%% md\n"
    }
   },
   "source": [
    "### 8. Как минимум для одного признака каждого типа постройте диаграмму, которая может помочь его исследовать."
   ]
  },
  {
   "cell_type": "code",
   "execution_count": 26,
   "metadata": {
    "collapsed": false,
    "jupyter": {
     "outputs_hidden": false
    },
    "pycharm": {
     "name": "#%%\n"
    }
   },
   "outputs": [
    {
     "name": "stderr",
     "output_type": "stream",
     "text": [
      "/usr/local/lib/python3.7/site-packages/seaborn/distributions.py:2557: FutureWarning: `distplot` is a deprecated function and will be removed in a future version. Please adapt your code to use either `displot` (a figure-level function with similar flexibility) or `histplot` (an axes-level function for histograms).\n",
      "  warnings.warn(msg, FutureWarning)\n"
     ]
    },
    {
     "data": {
      "text/plain": [
       "<AxesSubplot:xlabel='age', ylabel='Density'>"
      ]
     },
     "execution_count": 26,
     "metadata": {},
     "output_type": "execute_result"
    },
    {
     "data": {
      "image/png": "[encoded data removed]",
      "text/plain": [
       "<Figure size 432x288 with 1 Axes>"
      ]
     },
     "metadata": {},
     "output_type": "display_data"
    }
   ],
   "source": [
    "# порядковая\n",
    "sns.distplot(credit_df.age)"
   ]
  },
  {
   "cell_type": "code",
   "execution_count": 27,
   "metadata": {
    "collapsed": false,
    "jupyter": {
     "outputs_hidden": false
    },
    "pycharm": {
     "name": "#%%\n"
    }
   },
   "outputs": [
    {
     "name": "stderr",
     "output_type": "stream",
     "text": [
      "/usr/local/lib/python3.7/site-packages/seaborn/_decorators.py:43: FutureWarning: Pass the following variable as a keyword arg: x. From version 0.12, the only valid positional argument will be `data`, and passing other arguments without an explicit keyword will result in an error or misinterpretation.\n",
      "  FutureWarning\n"
     ]
    },
    {
     "data": {
      "text/plain": [
       "<AxesSubplot:xlabel='employment', ylabel='count'>"
      ]
     },
     "execution_count": 27,
     "metadata": {},
     "output_type": "execute_result"
    },
    {
     "data": {
      "image/png": "[encoded data removed]",
      "text/plain": [
       "<Figure size 432x288 with 1 Axes>"
      ]
     },
     "metadata": {},
     "output_type": "display_data"
    }
   ],
   "source": [
    "# номинальная (порядковая)\n",
    "sns.countplot(credit_df.employment)"
   ]
  },
  {
   "cell_type": "code",
   "execution_count": 28,
   "metadata": {
    "collapsed": false,
    "jupyter": {
     "outputs_hidden": false
    },
    "pycharm": {
     "name": "#%%\n"
    }
   },
   "outputs": [
    {
     "name": "stderr",
     "output_type": "stream",
     "text": [
      "/usr/local/lib/python3.7/site-packages/seaborn/_decorators.py:43: FutureWarning: Pass the following variable as a keyword arg: x. From version 0.12, the only valid positional argument will be `data`, and passing other arguments without an explicit keyword will result in an error or misinterpretation.\n",
      "  FutureWarning\n"
     ]
    },
    {
     "data": {
      "text/plain": [
       "<AxesSubplot:xlabel='own_telephone', ylabel='count'>"
      ]
     },
     "execution_count": 28,
     "metadata": {},
     "output_type": "execute_result"
    },
    {
     "data": {
      "image/png": "[encoded data removed]",
      "text/plain": [
       "<Figure size 432x288 with 1 Axes>"
      ]
     },
     "metadata": {},
     "output_type": "display_data"
    }
   ],
   "source": [
    "# бинарный\n",
    "sns.countplot(credit_df.own_telephone)"
   ]
  },
  {
   "cell_type": "code",
   "execution_count": 29,
   "metadata": {
    "collapsed": false,
    "jupyter": {
     "outputs_hidden": false
    },
    "pycharm": {
     "name": "#%%\n"
    }
   },
   "outputs": [
    {
     "data": {
      "text/plain": [
       "<seaborn.axisgrid.JointGrid at 0x13b4a0250>"
      ]
     },
     "execution_count": 29,
     "metadata": {},
     "output_type": "execute_result"
    },
    {
     "data": {
      "image/png": "[encoded data removed]",
      "text/plain": [
       "<Figure size 432x432 with 3 Axes>"
      ]
     },
     "metadata": {},
     "output_type": "display_data"
    }
   ],
   "source": [
    "# абсолютная\n",
    "sns.jointplot(x='age', y='credit_amount', data=credit_df, kind='scatter', color='orange')"
   ]
  },
  {
   "cell_type": "markdown",
   "metadata": {
    "jupyter": {
     "outputs_hidden": false
    },
    "pycharm": {
     "name": "#%%\n"
    }
   },
   "source": [
    "### 9. Проанализируйте взаимосвязи признаков с помощью scatter-plot матрицы и тепловой карты корреляций. Какие выводы можно сделать?"
   ]
  },
  {
   "cell_type": "markdown",
   "metadata": {},
   "source": [
    "#### На основании scatter-plot матрицы:\n",
    "\n",
    "**num_dependents   - credit_amount**   = больше иждивенцев - меньше сумма (сложнее выплачивать)   \n",
    "**num_dependents   - duration**        = больше иждивенцев - дольше срок (сложнее выплачивать)  \n",
    "**num_dependents   - age**             = в старшем возрасте меньше иждивенцев  \n",
    "\n",
    "**credit_amount    - existing_credit** = если уже есть несколько кредитов, то не берут большой кредит  \n",
    "**credit_amount    - resinence_since** = чем дольше являешься клиентом банка - тем больше сумма кредита  \n",
    "**credit_amount    - age**             = молодые чаще оформляют кредиты  \n",
    "**credit_amount    - duration**        = в среднем больше кредит - больше срок\n",
    "\n",
    "**existing_credits - resinence_since** = возможно, чем больше лет ты клиент в банке - появляется возможность взять еще один кредит  \n",
    "**existing_credits - age**             = у людей со средним возрастом чаще имеют несколько кредитов  \n",
    "**existing_credits - duration**        = больше кол-во кредитов - меньше длительность кредита (логично из **credit_amount->duration** и **existing_credits->credit-amount**)  \n",
    "\n",
    "**age              - duration**        = пожилые не берут на большой срок  \n",
    "**age              - resinence_since** = в среднем чем старше человек, тем дольше он является резидентом\n",
    "\n",
    "\n",
    "#### На основании heatmap: \n",
    "* признаки **credit_amount** и **duration** сильно связаны, чем больше кредит, тем больше длительность"
   ]
  },
  {
   "cell_type": "code",
   "execution_count": 30,
   "metadata": {
    "pycharm": {
     "name": "#%%\n"
    }
   },
   "outputs": [
    {
     "data": {
      "text/plain": [
       "<seaborn.axisgrid.PairGrid at 0x13b666d10>"
      ]
     },
     "execution_count": 30,
     "metadata": {},
     "output_type": "execute_result"
    },
    {
     "data": {
      "image/png": "[encoded data removed]",
      "text/plain": [
       "<Figure size 1080x1080 with 27 Axes>"
      ]
     },
     "metadata": {},
     "output_type": "display_data"
    }
   ],
   "source": [
    "sns.pairplot(credit_df[numeric_columns], corner=True)"
   ]
  },
  {
   "cell_type": "markdown",
   "metadata": {
    "pycharm": {
     "name": "#%% md\n"
    }
   },
   "source": [
    "Выводы при сопоставлении графиков для классов good и bad:  \n",
    "**duration - credit_amount** = чтобы кредит одобрили, его длительность должна коррелировать с суммой"
   ]
  },
  {
   "cell_type": "code",
   "execution_count": 31,
   "metadata": {},
   "outputs": [],
   "source": [
    "# sns.pairplot(good[numeric_columns], corner=True)"
   ]
  },
  {
   "cell_type": "code",
   "execution_count": 32,
   "metadata": {},
   "outputs": [],
   "source": [
    "# sns.pairplot(bad[numeric_columns], corner=True)"
   ]
  },
  {
   "cell_type": "code",
   "execution_count": 35,
   "metadata": {},
   "outputs": [
    {
     "data": {
      "text/html": [
       "<div>\n",
       "<style scoped>\n",
       "    .dataframe tbody tr th:only-of-type {\n",
       "        vertical-align: middle;\n",
       "    }\n",
       "\n",
       "    .dataframe tbody tr th {\n",
       "        vertical-align: top;\n",
       "    }\n",
       "\n",
       "    .dataframe thead th {\n",
       "        text-align: right;\n",
       "    }\n",
       "</style>\n",
       "<table border=\"1\" class=\"dataframe\">\n",
       "  <thead>\n",
       "    <tr style=\"text-align: right;\">\n",
       "      <th></th>\n",
       "      <th>duration</th>\n",
       "      <th>credit_amount</th>\n",
       "      <th>residence_since</th>\n",
       "      <th>age</th>\n",
       "      <th>existing_credits</th>\n",
       "      <th>num_dependents</th>\n",
       "    </tr>\n",
       "  </thead>\n",
       "  <tbody>\n",
       "    <tr>\n",
       "      <th>duration</th>\n",
       "      <td>1.000</td>\n",
       "      <td>0.623</td>\n",
       "      <td>0.014</td>\n",
       "      <td>-0.039</td>\n",
       "      <td>0.003</td>\n",
       "      <td>-0.042</td>\n",
       "    </tr>\n",
       "    <tr>\n",
       "      <th>credit_amount</th>\n",
       "      <td>0.623</td>\n",
       "      <td>1.000</td>\n",
       "      <td>0.040</td>\n",
       "      <td>0.047</td>\n",
       "      <td>0.026</td>\n",
       "      <td>0.018</td>\n",
       "    </tr>\n",
       "    <tr>\n",
       "      <th>residence_since</th>\n",
       "      <td>0.014</td>\n",
       "      <td>0.040</td>\n",
       "      <td>1.000</td>\n",
       "      <td>0.185</td>\n",
       "      <td>0.120</td>\n",
       "      <td>0.014</td>\n",
       "    </tr>\n",
       "    <tr>\n",
       "      <th>age</th>\n",
       "      <td>-0.039</td>\n",
       "      <td>0.047</td>\n",
       "      <td>0.185</td>\n",
       "      <td>1.000</td>\n",
       "      <td>0.151</td>\n",
       "      <td>0.122</td>\n",
       "    </tr>\n",
       "    <tr>\n",
       "      <th>existing_credits</th>\n",
       "      <td>0.003</td>\n",
       "      <td>0.026</td>\n",
       "      <td>0.120</td>\n",
       "      <td>0.151</td>\n",
       "      <td>1.000</td>\n",
       "      <td>0.116</td>\n",
       "    </tr>\n",
       "    <tr>\n",
       "      <th>num_dependents</th>\n",
       "      <td>-0.042</td>\n",
       "      <td>0.018</td>\n",
       "      <td>0.014</td>\n",
       "      <td>0.122</td>\n",
       "      <td>0.116</td>\n",
       "      <td>1.000</td>\n",
       "    </tr>\n",
       "  </tbody>\n",
       "</table>\n",
       "</div>"
      ],
      "text/plain": [
       "                  duration  credit_amount  residence_since    age  \\\n",
       "duration             1.000          0.623            0.014 -0.039   \n",
       "credit_amount        0.623          1.000            0.040  0.047   \n",
       "residence_since      0.014          0.040            1.000  0.185   \n",
       "age                 -0.039          0.047            0.185  1.000   \n",
       "existing_credits     0.003          0.026            0.120  0.151   \n",
       "num_dependents      -0.042          0.018            0.014  0.122   \n",
       "\n",
       "                  existing_credits  num_dependents  \n",
       "duration                     0.003          -0.042  \n",
       "credit_amount                0.026           0.018  \n",
       "residence_since              0.120           0.014  \n",
       "age                          0.151           0.122  \n",
       "existing_credits             1.000           0.116  \n",
       "num_dependents               0.116           1.000  "
      ]
     },
     "execution_count": 35,
     "metadata": {},
     "output_type": "execute_result"
    }
   ],
   "source": [
    "corr_matrix = credit_df.corr()\n",
    "corr_matrix"
   ]
  },
  {
   "cell_type": "code",
   "execution_count": 36,
   "metadata": {},
   "outputs": [
    {
     "data": {
      "text/plain": [
       "<AxesSubplot:>"
      ]
     },
     "execution_count": 36,
     "metadata": {},
     "output_type": "execute_result"
    },
    {
     "data": {
      "image/png": "[encoded data removed]",
      "text/plain": [
       "<Figure size 432x288 with 2 Axes>"
      ]
     },
     "metadata": {},
     "output_type": "display_data"
    }
   ],
   "source": [
    "sns.heatmap(corr_matrix, annot=True, annot_kws={\"size\":12})"
   ]
  },
  {
   "cell_type": "code",
   "execution_count": null,
   "metadata": {},
   "outputs": [],
   "source": []
  },
  {
   "cell_type": "markdown",
   "metadata": {},
   "source": [
    "### 10. Какой признак(и) имеет смысл стандартизировать? Почему?\n"
   ]
  },
  {
   "cell_type": "markdown",
   "metadata": {},
   "source": [
    "**duration** - можно стандартизовать (имеет смысл?) как входной параметр для алгоритма kNN  \n",
    "**credit_amount** - можно стандартизовать (имеет смысл?) как входной параметр для алгоритма kNN  \n",
    "**residence_since** - нет смысла, только 5 значения (от 0 до 4) age - можно стандартизовать (имеет смысл?) как входной параметр для алгоритма kNN  \n",
    "**existing_credits** - нет смысла, только 4 значения (от 1 до 4)  \n",
    "**num_dependents** - нет смысла, только 2 значения (от 1 до 2)  "
   ]
  },
  {
   "cell_type": "markdown",
   "metadata": {
    "pycharm": {
     "name": "#%% md\n"
    }
   },
   "source": [
    "* Признаки `checking_status` и `employment` можно сделать порядковыми, чтобы их можно было сравнивать.\n",
    "* Признак `foreign_worker` частично дублируется в признаке `job`."
   ]
  },
  {
   "cell_type": "markdown",
   "metadata": {
    "pycharm": {
     "name": "#%% md\n"
    }
   },
   "source": [
    "\n",
    "### 11. Придумайте 1 новый признак, попытайтесь объяснить, почему он информативный."
   ]
  },
  {
   "cell_type": "markdown",
   "metadata": {
    "pycharm": {
     "name": "#%% md\n"
    }
   },
   "source": [
    "количество судимостей - зная количество судимостей, можно одобрить или не одобрить кредит  \n",
    "доход за последние полгода - зная сумму, можно оценить адекватность размера кредита  "
   ]
  },
  {
   "cell_type": "markdown",
   "source": [
    "* Признак `sex` можно извлечь из признака `personal_status`. "
   ],
   "metadata": {
    "collapsed": false
   }
  },
  {
   "cell_type": "code",
   "execution_count": null,
   "outputs": [],
   "source": [],
   "metadata": {
    "collapsed": false,
    "pycharm": {
     "name": "#%%\n"
    }
   }
  },
  {
   "cell_type": "markdown",
   "metadata": {},
   "source": []
  },
  {
   "cell_type": "code",
   "execution_count": null,
   "metadata": {},
   "outputs": [],
   "source": []
  },
  {
   "cell_type": "code",
   "execution_count": null,
   "metadata": {},
   "outputs": [],
   "source": []
  }
 ],
 "metadata": {
  "kernelspec": {
   "display_name": "Python 3",
   "language": "python",
   "name": "python3"
  },
  "language_info": {
   "codemirror_mode": {
    "name": "ipython",
    "version": 3
   },
   "file_extension": ".py",
   "mimetype": "text/x-python",
   "name": "python",
   "nbconvert_exporter": "python",
   "pygments_lexer": "ipython3",
   "version": "3.7.9"
  }
 },
 "nbformat": 4,
 "nbformat_minor": 4
}